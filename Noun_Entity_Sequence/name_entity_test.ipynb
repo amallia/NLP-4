{
 "cells": [
  {
   "cell_type": "code",
   "execution_count": 23,
   "metadata": {},
   "outputs": [
    {
     "name": "stdout",
     "output_type": "stream",
     "text": [
      "finish, check the file\n"
     ]
    }
   ],
   "source": [
    "import nltk\n",
    "import re\n",
    "\n",
    "def is_number(s):\n",
    "    try:\n",
    "        float(s)\n",
    "        return True\n",
    "    except ValueError:\n",
    "        return False\n",
    "\n",
    "content=[]\n",
    "with open('./WSJ_23.pos') as f:\n",
    "    content1 = f.readlines()\n",
    "content=[x.strip() for x in content1] \n",
    "output=open('test_WSJ_23.chunk','w+')\n",
    "\n",
    "output.write('\\n')\n",
    "for i in range(1,len(content)):\n",
    "    val=content[i].split()\n",
    "    val_prev=content[i-1].split()\n",
    "    val_forw=[]\n",
    "    val_prev2=[]\n",
    "    val_forw2=[]\n",
    "    if i!=(len(content)-1):\n",
    "        val_forw=content[i+1].split()\n",
    "    if i!=1:\n",
    "        val_prev2=content[i-2].split()\n",
    "    if not (i==(len(content)-1) or i==(len(content)-2)):\n",
    "        val_forw2=content[i+2].split()\n",
    "        \n",
    "    if len(val)==0:\n",
    "        output.write('\\n')\n",
    "    else:\n",
    "        output.write(val[0]+'\\t'+'POS='+val[1]+'\\t')\n",
    "        output.write('w='+val[0]+'\\t')\n",
    "        if len(val_prev)==0:\n",
    "            output.write('p_p=start'+'\\t'+'p_w=start'+'\\t')\n",
    "        else:\n",
    "            output.write('p_p='+val_prev[1]+'\\t'+'p_w='+val_prev[0]+'\\t')\n",
    "        if len(val_prev2)==0:\n",
    "            output.write('p2_p=start'+'\\t'+'p2_w=start'+'\\t')\n",
    "        else:\n",
    "            output.write('p2_p='+val_prev2[1]+'\\t'+'p2_w='+val_prev2[0]+'\\t')\n",
    "                   \n",
    "        if len(val_forw)==0:\n",
    "            output.write('f_p=end'+'\\t'+'f_w=end'+'\\t')\n",
    "        else:\n",
    "            output.write('f_p='+val_forw[1]+'\\t'+'f_w='+val_forw[0]+'\\t')\n",
    "       \n",
    "        if len(val_forw2)==0:\n",
    "            output.write('f2_p=end'+'\\t'+'f2_w=end'+'\\t')\n",
    "        else:\n",
    "            output.write('f2_p='+val_forw2[1]+'\\t'+'f2_w='+val_forw2[0]+'\\t')\n",
    "            \n",
    "        if val[0][0].isupper():\n",
    "            output.write('flc='+'1'+'\\t')\n",
    "        else:\n",
    "            output.write('flc='+'0'+'\\t')\n",
    "            \n",
    "        if is_number(val[0]):\n",
    "            output.write('isN='+'1'+'\\t')\n",
    "        else:\n",
    "            output.write('isN='+'0'+'\\t')\n",
    "        #print val[0]    \n",
    "        output.write('\\n')\n",
    "        \n",
    "#output.write('\\n')\n",
    "print 'finish, check the file'        "
   ]
  },
  {
   "cell_type": "code",
   "execution_count": null,
   "metadata": {
    "collapsed": true
   },
   "outputs": [],
   "source": []
  }
 ],
 "metadata": {
  "kernelspec": {
   "display_name": "Python 2",
   "language": "python",
   "name": "python2"
  },
  "language_info": {
   "codemirror_mode": {
    "name": "ipython",
    "version": 2
   },
   "file_extension": ".py",
   "mimetype": "text/x-python",
   "name": "python",
   "nbconvert_exporter": "python",
   "pygments_lexer": "ipython2",
   "version": "2.7.13"
  }
 },
 "nbformat": 4,
 "nbformat_minor": 2
}
