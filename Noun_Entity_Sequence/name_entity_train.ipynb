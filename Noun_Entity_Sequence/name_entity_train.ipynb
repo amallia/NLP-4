{
 "cells": [
  {
   "cell_type": "code",
   "execution_count": 28,
   "metadata": {
    "collapsed": true
   },
   "outputs": [],
   "source": [
    "import nltk\n",
    "import re"
   ]
  },
  {
   "cell_type": "code",
   "execution_count": 29,
   "metadata": {},
   "outputs": [
    {
     "data": {
      "text/plain": [
       "'an\\tDT\\tB-NP'"
      ]
     },
     "execution_count": 29,
     "metadata": {},
     "output_type": "execute_result"
    }
   ],
   "source": [
    "content=[]\n",
    "with open('./WSJ_02-21.pos-chunk') as f:\n",
    "    content = f.readlines()\n",
    "content=[x.strip() for x in content] \n",
    "content[2]"
   ]
  },
  {
   "cell_type": "code",
   "execution_count": 30,
   "metadata": {
    "collapsed": true
   },
   "outputs": [],
   "source": [
    "output=open('train_8.chunk','w+')"
   ]
  },
  {
   "cell_type": "code",
   "execution_count": 31,
   "metadata": {},
   "outputs": [
    {
     "name": "stdout",
     "output_type": "stream",
     "text": [
      "POS=IN\tlove\n"
     ]
    },
    {
     "data": {
      "text/plain": [
       "True"
      ]
     },
     "execution_count": 31,
     "metadata": {},
     "output_type": "execute_result"
    }
   ],
   "source": [
    "val=content[1].split()\n",
    "val[0]\n",
    "tab=val[0][0]\n",
    "tab\n",
    "print 'POS='+val[1]+'\\t'+'love'\n",
    "val[0][0].isupper()"
   ]
  },
  {
   "cell_type": "code",
   "execution_count": 32,
   "metadata": {
    "collapsed": true
   },
   "outputs": [],
   "source": [
    "def is_number(s):\n",
    "    try:\n",
    "        float(s)\n",
    "        return True\n",
    "    except ValueError:\n",
    "        return False"
   ]
  },
  {
   "cell_type": "code",
   "execution_count": 33,
   "metadata": {},
   "outputs": [
    {
     "name": "stdout",
     "output_type": "stream",
     "text": [
      "finish, check the file\n"
     ]
    }
   ],
   "source": [
    "output.write('\\n')\n",
    "for i in range(1,len(content)):\n",
    "    val=content[i].split()\n",
    "    val_prev=content[i-1].split()\n",
    "    val_forw=[]\n",
    "    val_prev2=[]\n",
    "    val_forw2=[]\n",
    "    if i!=(len(content)-1):\n",
    "        val_forw=content[i+1].split()\n",
    "    if i!=1:\n",
    "        val_prev2=content[i-2].split()\n",
    "    if (i!=(len(content)-1)) and (i!=(len(content)-2)):\n",
    "        val_forw2=content[i+2].split()\n",
    "        \n",
    "    #p_p -> previous POS\n",
    "    #p_w -> previous word\n",
    "    #p_BIO -> previous BIO\n",
    "    #p2_p -> 2nd previous POS\n",
    "    #p2_w -> 2nd previous word\n",
    "    #p2_BIO -> 2nd previous BIO\n",
    "    #f_p -> forward POS\n",
    "    #f_w -> forward word\n",
    "    #f_BIO -> forward BIO\n",
    "    #f2_p -> 2nd forward POS\n",
    "    #f2_w -> 2nd forward word\n",
    "    #f2_BIO -> 2nd forward BIO\n",
    "    #fLC->firstLetterCapital\n",
    "    #w->word\n",
    "    #isN -> is a number\n",
    "    if len(val)==0:\n",
    "        output.write('\\n')\n",
    "    else:\n",
    "        output.write(val[0]+'\\t'+'POS='+val[1]+'\\t')\n",
    "        output.write('w='+val[0]+'\\t')\n",
    "        if len(val_prev)==0:\n",
    "            output.write('p_p=start'+'\\t'+'p_w=start'+'\\t'+'p_BIO=O'+'\\t')\n",
    "        else:\n",
    "            output.write('p_p='+val_prev[1]+'\\t'+'p_w='+val_prev[0]+'\\t'+'p_BIO='+val_prev[2]+'\\t')\n",
    "        if len(val_prev2)==0:\n",
    "            output.write('p2_p=start'+'\\t'+'p2_w=start'+'\\t'+'p2_BIO=O'+'\\t')\n",
    "        else:\n",
    "            output.write('p2_p='+val_prev2[1]+'\\t'+'p2_w='+val_prev2[0]+'\\t'+'p2_BIO='+val_prev2[2]+'\\t')\n",
    "\n",
    "        if len(val_forw)==0:\n",
    "            output.write('f_p=end'+'\\t'+'f_w=end'+'\\t'+'f_BIO=O'+'\\t')\n",
    "        else:\n",
    "            output.write('f_p='+val_forw[1]+'\\t'+'f_w='+val_forw[0]+'\\t'+'f_BIO='+val_forw[2]+'\\t')\n",
    "                    \n",
    "        if len(val_forw2)==0:\n",
    "            output.write('f2_p=end'+'\\t'+'f2_w=end'+'\\t'+'f2_BIO=O'+'\\t')\n",
    "        else:\n",
    "            output.write('f2_p='+val_forw2[1]+'\\t'+'f2_w='+val_forw2[0]+'\\t'+'f2_BIO='+val_forw2[2]+'\\t')\n",
    "                \n",
    "        if val[0][0].isupper():\n",
    "            output.write('flc='+'1'+'\\t')\n",
    "        else:\n",
    "            output.write('flc='+'0'+'\\t')\n",
    "        \n",
    "        if is_number(val[0]):\n",
    "            output.write('isN='+'1'+'\\t')\n",
    "        else:\n",
    "            output.write('isN='+'0'+'\\t')\n",
    "            \n",
    "        output.write(val[2]+'\\n')\n",
    "print 'finish, check the file'        "
   ]
  },
  {
   "cell_type": "code",
   "execution_count": null,
   "metadata": {
    "collapsed": true
   },
   "outputs": [],
   "source": []
  }
 ],
 "metadata": {
  "kernelspec": {
   "display_name": "Python 2",
   "language": "python",
   "name": "python2"
  },
  "language_info": {
   "codemirror_mode": {
    "name": "ipython",
    "version": 2
   },
   "file_extension": ".py",
   "mimetype": "text/x-python",
   "name": "python",
   "nbconvert_exporter": "python",
   "pygments_lexer": "ipython2",
   "version": "2.7.13"
  }
 },
 "nbformat": 4,
 "nbformat_minor": 2
}
