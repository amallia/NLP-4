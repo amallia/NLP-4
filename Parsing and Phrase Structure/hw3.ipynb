{
 "cells": [
  {
   "cell_type": "code",
   "execution_count": 1,
   "metadata": {
    "collapsed": true
   },
   "outputs": [],
   "source": [
    "import nltk"
   ]
  },
  {
   "cell_type": "code",
   "execution_count": 2,
   "metadata": {
    "collapsed": true
   },
   "outputs": [],
   "source": [
    "grammar = nltk.CFG.fromstring(\"\"\"\n",
    "    S -> NP VP\n",
    "    NP -> NNS\n",
    "    NP -> NP PP\n",
    "    NP -> DT NP\n",
    "    NP -> JJ NNS\n",
    "    NP -> NN NN \n",
    "    PP -> IN NP\n",
    "    NP -> DT NN\n",
    "    VP -> VBP SBAR\n",
    "    VP -> VBP PP\n",
    "    SBAR -> IN S\n",
    "    NNS -> 'Scientists'|'areas'\n",
    "    VBP -> 'think'|'are'\n",
    "    IN -> 'that'|'in'|'on'|'the'\n",
    "    DT -> 'any'|'the'\n",
    "    JJ -> 'habitable'\n",
    "    NN -> 'border'|'region'|'planet'\n",
    "  \"\"\")"
   ]
  },
  {
   "cell_type": "code",
   "execution_count": 3,
   "metadata": {},
   "outputs": [
    {
     "data": {
      "text/plain": [
       "<Grammar with 25 productions>"
      ]
     },
     "execution_count": 3,
     "metadata": {},
     "output_type": "execute_result"
    }
   ],
   "source": [
    "grammar"
   ]
  },
  {
   "cell_type": "code",
   "execution_count": 4,
   "metadata": {},
   "outputs": [
    {
     "data": {
      "text/plain": [
       "S"
      ]
     },
     "execution_count": 4,
     "metadata": {},
     "output_type": "execute_result"
    }
   ],
   "source": [
    "grammar.start()"
   ]
  },
  {
   "cell_type": "code",
   "execution_count": 5,
   "metadata": {},
   "outputs": [
    {
     "data": {
      "text/plain": [
       "[S -> NP VP,\n",
       " NP -> NNS,\n",
       " NP -> NP PP,\n",
       " NP -> DT NP,\n",
       " NP -> JJ NNS,\n",
       " NP -> NN NN,\n",
       " PP -> IN NP,\n",
       " NP -> DT NN,\n",
       " VP -> VBP SBAR,\n",
       " VP -> VBP PP,\n",
       " SBAR -> IN S,\n",
       " NNS -> 'Scientists',\n",
       " NNS -> 'areas',\n",
       " VBP -> 'think',\n",
       " VBP -> 'are',\n",
       " IN -> 'that',\n",
       " IN -> 'in',\n",
       " IN -> 'on',\n",
       " IN -> 'the',\n",
       " DT -> 'any',\n",
       " DT -> 'the',\n",
       " JJ -> 'habitable',\n",
       " NN -> 'border',\n",
       " NN -> 'region',\n",
       " NN -> 'planet']"
      ]
     },
     "execution_count": 5,
     "metadata": {},
     "output_type": "execute_result"
    }
   ],
   "source": [
    "grammar.productions() "
   ]
  },
  {
   "cell_type": "code",
   "execution_count": 16,
   "metadata": {},
   "outputs": [],
   "source": [
    "sent = \"Scientists think that any habitable areas on the planet are in the border region\".split()\n"
   ]
  },
  {
   "cell_type": "code",
   "execution_count": 7,
   "metadata": {
    "collapsed": true
   },
   "outputs": [],
   "source": [
    "parser = nltk.ChartParser(grammar)"
   ]
  },
  {
   "cell_type": "code",
   "execution_count": 17,
   "metadata": {},
   "outputs": [
    {
     "name": "stdout",
     "output_type": "stream",
     "text": [
      "(S\n",
      "  (NP (NNS Scientists))\n",
      "  (VP\n",
      "    (VBP think)\n",
      "    (SBAR\n",
      "      (IN that)\n",
      "      (S\n",
      "        (NP\n",
      "          (NP (DT any) (NP (JJ habitable) (NNS areas)))\n",
      "          (PP (IN on) (NP (DT the) (NN planet))))\n",
      "        (VP\n",
      "          (VBP are)\n",
      "          (PP (IN in) (NP (DT the) (NP (NN border) (NN region)))))))))\n",
      "(S\n",
      "  (NP (NNS Scientists))\n",
      "  (VP\n",
      "    (VBP think)\n",
      "    (SBAR\n",
      "      (IN that)\n",
      "      (S\n",
      "        (NP\n",
      "          (DT any)\n",
      "          (NP\n",
      "            (NP (JJ habitable) (NNS areas))\n",
      "            (PP (IN on) (NP (DT the) (NN planet)))))\n",
      "        (VP\n",
      "          (VBP are)\n",
      "          (PP (IN in) (NP (DT the) (NP (NN border) (NN region)))))))))\n"
     ]
    }
   ],
   "source": [
    "for tree in parser.parse(sent):\n",
    "...     print(tree)"
   ]
  },
  {
   "cell_type": "code",
   "execution_count": null,
   "metadata": {},
   "outputs": [],
   "source": []
  },
  {
   "cell_type": "code",
   "execution_count": null,
   "metadata": {
    "collapsed": true
   },
   "outputs": [],
   "source": []
  }
 ],
 "metadata": {
  "kernelspec": {
   "display_name": "Python 2",
   "language": "python",
   "name": "python2"
  },
  "language_info": {
   "codemirror_mode": {
    "name": "ipython",
    "version": 2
   },
   "file_extension": ".py",
   "mimetype": "text/x-python",
   "name": "python",
   "nbconvert_exporter": "python",
   "pygments_lexer": "ipython2",
   "version": "2.7.13"
  }
 },
 "nbformat": 4,
 "nbformat_minor": 2
}
