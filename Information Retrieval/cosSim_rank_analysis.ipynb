{
 "cells": [
  {
   "cell_type": "code",
   "execution_count": 1,
   "metadata": {
    "collapsed": true
   },
   "outputs": [],
   "source": [
    "import re"
   ]
  },
  {
   "cell_type": "code",
   "execution_count": 11,
   "metadata": {},
   "outputs": [
    {
     "name": "stdout",
     "output_type": "stream",
     "text": [
      "219\n",
      "131\n",
      "405\n",
      "805\n",
      "311414\n"
     ]
    }
   ],
   "source": [
    "with open(\"./sample_cranfield_output.txt\") as f:\n",
    "    content=f.read()\n",
    "    p1=re.compile('[0-9]+( )[0-9][0-9]([0-9])*( )(-1)')\n",
    "    p2=re.compile('[0-9]+( )[0-9][0-9]([0-9])*( )(1)')\n",
    "    p3=re.compile('[0-9]+( )[0-9][0-9]([0-9])*( )(2)')\n",
    "    p4=re.compile('[0-9]+( )[0-9][0-9]([0-9])*( )(3)')\n",
    "    p5=re.compile('[0-9]+( )[0-9][0-9]([0-9])*( )(4)')\n",
    "    total=0\n",
    "    count_minus1=0\n",
    "    for m in re.finditer(p1, content):\n",
    "        count_minus1+=1\n",
    "        text=(str)(m.group(0))\n",
    "        #print text\n",
    "    print count_minus1\n",
    "    total+=count_minus1\n",
    "    count_1=0\n",
    "    for m in re.finditer(p2, content):\n",
    "        count_1+=1\n",
    "        text=(str)(m.group(0))\n",
    "    print count_1\n",
    "    total+=count_1\n",
    "    count_2=0\n",
    "    for m in re.finditer(p3, content):\n",
    "        count_2+=1\n",
    "        text=(str)(m.group(0))\n",
    "    print count_2\n",
    "    total+=count_2\n",
    "\n",
    "    count_3=0\n",
    "    for m in re.finditer(p4, content):\n",
    "        count_3+=1\n",
    "        text=(str)(m.group(0))\n",
    "    print count_3\n",
    "    total+=count_3\n",
    "\n",
    "    count_4=0\n",
    "    for m in re.finditer(p5, content):\n",
    "        count_4+=1\n",
    "        text=(str)(m.group(0))\n",
    "    print count_4\n",
    "    total+=count_4\n"
   ]
  },
  {
   "cell_type": "code",
   "execution_count": 12,
   "metadata": {},
   "outputs": [
    {
     "name": "stdout",
     "output_type": "stream",
     "text": [
      "312974\n"
     ]
    }
   ],
   "source": [
    "print total"
   ]
  },
  {
   "cell_type": "code",
   "execution_count": 23,
   "metadata": {},
   "outputs": [
    {
     "name": "stdout",
     "output_type": "stream",
     "text": [
      "-1 has 0.000699738636436\n",
      "1 has 0.000418565120425\n",
      "2 has 0.00129403720437\n",
      "3 has 0.00257209864078\n",
      "4 has 0.995015560398\n"
     ]
    }
   ],
   "source": [
    "print '-1 has', float(count_minus1)/total\n",
    "print '1 has', float(count_1)/total\n",
    "print '2 has', float(count_2)/total\n",
    "print '3 has', float(count_3)/total\n",
    "print '4 has', float(count_4)/total\n"
   ]
  },
  {
   "cell_type": "code",
   "execution_count": null,
   "metadata": {
    "collapsed": true
   },
   "outputs": [],
   "source": [
    "#notice that most of it got 4, and -1 is the best choice but with certain requirement.\n",
    "#follow this percentage, we will decide the relation between cos similarity and final rank score\n",
    "#we will give the best result -1 and give 1 for the top 0.1% and 2 for the next 0.2%, 3 for the next 0.3% and 4 for the rest"
   ]
  }
 ],
 "metadata": {
  "kernelspec": {
   "display_name": "Python 2",
   "language": "python",
   "name": "python2"
  },
  "language_info": {
   "codemirror_mode": {
    "name": "ipython",
    "version": 2
   },
   "file_extension": ".py",
   "mimetype": "text/x-python",
   "name": "python",
   "nbconvert_exporter": "python",
   "pygments_lexer": "ipython2",
   "version": "2.7.13"
  }
 },
 "nbformat": 4,
 "nbformat_minor": 2
}
