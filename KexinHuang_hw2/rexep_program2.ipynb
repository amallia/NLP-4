{
 "cells": [
  {
   "cell_type": "code",
   "execution_count": 1,
   "metadata": {
    "collapsed": true
   },
   "outputs": [],
   "source": [
    "import re\n",
    "\n",
    "#input must locate in the current directory"
   ]
  },
  {
   "cell_type": "code",
   "execution_count": 12,
   "metadata": {},
   "outputs": [
    {
     "name": "stdout",
     "output_type": "stream",
     "text": [
      "input file's name?test.txt\n",
      "what you want your output file's name to be?output_tel\n"
     ]
    }
   ],
   "source": [
    "input = raw_input(\"input file's name?\")\n",
    "output=raw_input(\"what you want your output file's name to be?\")\n",
    "input_1=open(input)\n",
    "output_1=open(output,'w+')\n",
    "output_2=open('list_tel','w+')\n",
    "content=input_1.read()\n",
    "p=re.compile('(\\+?(\\d{1,3}))?[-. (]*(\\d{3})?[-. )]*(\\d{3})[-. ]*(\\d{4})( *x(\\d+))?')\n",
    "for m in re.finditer(p, content):\n",
    "       x=(str)(m.start())+'-'+ (str)(m.end())+': '+ (str)(m.group(0))\n",
    "       output_2.write(x+'\\n')\n",
    "\n",
    "\n",
    "out=re.sub(p, r\"[\\g<0>]\", content)\n",
    "output_1.write(out)\n",
    "output_1.close()\n",
    "output_2.close()\n"
   ]
  },
  {
   "cell_type": "code",
   "execution_count": null,
   "metadata": {
    "collapsed": true
   },
   "outputs": [],
   "source": [
    "# output:\n",
    "#file 1 contains all the tel number with brackets\n",
    "#file 2 named \"list_tel\" contains entries of each match"
   ]
  }
 ],
 "metadata": {
  "kernelspec": {
   "display_name": "Python 2",
   "language": "python",
   "name": "python2"
  },
  "language_info": {
   "codemirror_mode": {
    "name": "ipython",
    "version": 2
   },
   "file_extension": ".py",
   "mimetype": "text/x-python",
   "name": "python",
   "nbconvert_exporter": "python",
   "pygments_lexer": "ipython2",
   "version": "2.7.13"
  }
 },
 "nbformat": 4,
 "nbformat_minor": 2
}
