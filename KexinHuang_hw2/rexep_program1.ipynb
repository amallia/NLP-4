{
 "cells": [
  {
   "cell_type": "code",
   "execution_count": 44,
   "metadata": {
    "collapsed": true
   },
   "outputs": [],
   "source": [
    "import re\n",
    "\n",
    "#input must locate in the current directory"
   ]
  },
  {
   "cell_type": "code",
   "execution_count": 49,
   "metadata": {},
   "outputs": [
    {
     "name": "stdout",
     "output_type": "stream",
     "text": [
      "input file's name?test.txt\n",
      "what you want your output file's name to be?output_dollar\n"
     ]
    }
   ],
   "source": [
    "input = raw_input(\"input file's name?\")\n",
    "output=raw_input(\"what you want your output file's name to be?\")\n",
    "input_1=open(input)\n",
    "output_1=open(output,'w+')\n",
    "output_2=open('list_dollar','w+')\n",
    "content=input_1.read()\n",
    "p=re.compile('([$][0-9\\.\\,]+(thousand|million|billion|trillion)?)|(\\s*[A-Z]*[a-z]+\\s+(dollars|cents))|(a dollar)')\n",
    "for m in re.finditer(p, content):\n",
    "       x=(str)(m.start())+'-'+ (str)(m.end())+': '+ (str)(m.group(0))\n",
    "       output_2.write(x+'\\n')\n",
    "\n",
    "\n",
    "out=re.sub(p, r\"[\\g<0>]\", content)\n",
    "output_1.write(out)\n",
    "output_1.close()\n",
    "output_2.close()"
   ]
  },
  {
   "cell_type": "code",
   "execution_count": null,
   "metadata": {
    "collapsed": true
   },
   "outputs": [],
   "source": [
    "# output:\n",
    "#file 1 contains all the dollar amounts with brackets\n",
    "#file 2 named \"list_dollar\" contains entries of each match"
   ]
  },
  {
   "cell_type": "code",
   "execution_count": null,
   "metadata": {
    "collapsed": true
   },
   "outputs": [],
   "source": []
  }
 ],
 "metadata": {
  "kernelspec": {
   "display_name": "Python 2",
   "language": "python",
   "name": "python2"
  },
  "language_info": {
   "codemirror_mode": {
    "name": "ipython",
    "version": 2
   },
   "file_extension": ".py",
   "mimetype": "text/x-python",
   "name": "python",
   "nbconvert_exporter": "python",
   "pygments_lexer": "ipython2",
   "version": "2.7.13"
  }
 },
 "nbformat": 4,
 "nbformat_minor": 2
}
